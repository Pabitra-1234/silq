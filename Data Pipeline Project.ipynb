{
 "cells": [
  {
   "cell_type": "markdown",
   "id": "055041c8",
   "metadata": {},
   "source": [
    "# Build an ETL Pipeline\n",
    "\n",
    "step1 - Extract Data from Csv file\n",
    "\n",
    "step2 - Transform the Data(i.e Clean the Data)- deal with missing and duplicate data\n",
    "\n",
    "step3 - Create a Database\n",
    "\n",
    "Step4 - Load the clean data into Database"
   ]
  },
  {
   "cell_type": "code",
   "execution_count": 224,
   "id": "2370c7d9",
   "metadata": {},
   "outputs": [],
   "source": [
    "# Import the libraries\n",
    "import pandas as pd\n",
    "import psycopg2\n",
    "from datetime import datetime\n",
    "from sqlalchemy import create_engine\n",
    "import logging"
   ]
  },
  {
   "cell_type": "code",
   "execution_count": 225,
   "id": "75736e8a",
   "metadata": {},
   "outputs": [],
   "source": [
    "# Logging setup\n",
    "logging.basicConfig(filename=\"data_pipeline.log\", level=logging.INFO)"
   ]
  },
  {
   "cell_type": "code",
   "execution_count": 226,
   "id": "3bde9182",
   "metadata": {},
   "outputs": [],
   "source": [
    "# extract the data\n",
    "Orders = pd.read_csv(\"F:\\Silq\\Orders .csv\")\n",
    "Products = pd.read_csv(\"F:\\Silq\\Products.csv\")\n",
    "Users = pd.read_csv(\"F:\\\\Silq\\\\Users.csv\")"
   ]
  },
  {
   "cell_type": "markdown",
   "id": "a12b31d6",
   "metadata": {},
   "source": [
    "# EDA"
   ]
  },
  {
   "cell_type": "markdown",
   "id": "ac6bc3b8",
   "metadata": {},
   "source": [
    "# Orders"
   ]
  },
  {
   "cell_type": "code",
   "execution_count": 227,
   "id": "f02b3c68",
   "metadata": {},
   "outputs": [
    {
     "data": {
      "text/html": [
       "<div>\n",
       "<style scoped>\n",
       "    .dataframe tbody tr th:only-of-type {\n",
       "        vertical-align: middle;\n",
       "    }\n",
       "\n",
       "    .dataframe tbody tr th {\n",
       "        vertical-align: top;\n",
       "    }\n",
       "\n",
       "    .dataframe thead th {\n",
       "        text-align: right;\n",
       "    }\n",
       "</style>\n",
       "<table border=\"1\" class=\"dataframe\">\n",
       "  <thead>\n",
       "    <tr style=\"text-align: right;\">\n",
       "      <th></th>\n",
       "      <th>OrderID</th>\n",
       "      <th>UserID</th>\n",
       "      <th>ProductID</th>\n",
       "      <th>OrderDate</th>\n",
       "      <th>Amount</th>\n",
       "    </tr>\n",
       "  </thead>\n",
       "  <tbody>\n",
       "    <tr>\n",
       "      <th>0</th>\n",
       "      <td>1</td>\n",
       "      <td>1</td>\n",
       "      <td>1</td>\n",
       "      <td>24-07-2022 12:37</td>\n",
       "      <td>199.96</td>\n",
       "    </tr>\n",
       "    <tr>\n",
       "      <th>1</th>\n",
       "      <td>2</td>\n",
       "      <td>8</td>\n",
       "      <td>2</td>\n",
       "      <td>22-04-2022 22:07</td>\n",
       "      <td>49.99</td>\n",
       "    </tr>\n",
       "    <tr>\n",
       "      <th>2</th>\n",
       "      <td>3</td>\n",
       "      <td>8</td>\n",
       "      <td>2</td>\n",
       "      <td>17-02-2022 11:15</td>\n",
       "      <td>199.96</td>\n",
       "    </tr>\n",
       "    <tr>\n",
       "      <th>3</th>\n",
       "      <td>4</td>\n",
       "      <td>10</td>\n",
       "      <td>3</td>\n",
       "      <td>01-05-2022 09:32</td>\n",
       "      <td>239.96</td>\n",
       "    </tr>\n",
       "    <tr>\n",
       "      <th>4</th>\n",
       "      <td>5</td>\n",
       "      <td>5</td>\n",
       "      <td>2</td>\n",
       "      <td>06-04-2022 09:58</td>\n",
       "      <td>99.95</td>\n",
       "    </tr>\n",
       "  </tbody>\n",
       "</table>\n",
       "</div>"
      ],
      "text/plain": [
       "   OrderID  UserID  ProductID         OrderDate  Amount\n",
       "0        1       1          1  24-07-2022 12:37  199.96\n",
       "1        2       8          2  22-04-2022 22:07   49.99\n",
       "2        3       8          2  17-02-2022 11:15  199.96\n",
       "3        4      10          3  01-05-2022 09:32  239.96\n",
       "4        5       5          2  06-04-2022 09:58   99.95"
      ]
     },
     "execution_count": 227,
     "metadata": {},
     "output_type": "execute_result"
    }
   ],
   "source": [
    "Orders.head()"
   ]
  },
  {
   "cell_type": "code",
   "execution_count": 228,
   "id": "45258d5b",
   "metadata": {},
   "outputs": [
    {
     "name": "stdout",
     "output_type": "stream",
     "text": [
      "<class 'pandas.core.frame.DataFrame'>\n",
      "RangeIndex: 20 entries, 0 to 19\n",
      "Data columns (total 5 columns):\n",
      " #   Column     Non-Null Count  Dtype  \n",
      "---  ------     --------------  -----  \n",
      " 0   OrderID    20 non-null     int64  \n",
      " 1   UserID     20 non-null     int64  \n",
      " 2   ProductID  20 non-null     int64  \n",
      " 3   OrderDate  20 non-null     object \n",
      " 4   Amount     20 non-null     float64\n",
      "dtypes: float64(1), int64(3), object(1)\n",
      "memory usage: 932.0+ bytes\n"
     ]
    }
   ],
   "source": [
    "Orders.info()"
   ]
  },
  {
   "cell_type": "code",
   "execution_count": 230,
   "id": "8720c946",
   "metadata": {},
   "outputs": [],
   "source": [
    "# change the datatype of Orders\n",
    "Orders['OrderDate']=pd.to_datetime(Orders['OrderDate'])"
   ]
  },
  {
   "cell_type": "code",
   "execution_count": 231,
   "id": "76639e7f",
   "metadata": {},
   "outputs": [
    {
     "name": "stdout",
     "output_type": "stream",
     "text": [
      "<class 'pandas.core.frame.DataFrame'>\n",
      "RangeIndex: 20 entries, 0 to 19\n",
      "Data columns (total 5 columns):\n",
      " #   Column     Non-Null Count  Dtype         \n",
      "---  ------     --------------  -----         \n",
      " 0   OrderID    20 non-null     int64         \n",
      " 1   UserID     20 non-null     int64         \n",
      " 2   ProductID  20 non-null     int64         \n",
      " 3   OrderDate  20 non-null     datetime64[ns]\n",
      " 4   Amount     20 non-null     float64       \n",
      "dtypes: datetime64[ns](1), float64(1), int64(3)\n",
      "memory usage: 932.0 bytes\n"
     ]
    }
   ],
   "source": [
    "Orders.info()"
   ]
  },
  {
   "cell_type": "code",
   "execution_count": 241,
   "id": "f7f75426",
   "metadata": {},
   "outputs": [
    {
     "data": {
      "text/plain": [
       "OrderID      0\n",
       "UserID       0\n",
       "ProductID    0\n",
       "OrderDate    0\n",
       "Amount       0\n",
       "dtype: int64"
      ]
     },
     "execution_count": 241,
     "metadata": {},
     "output_type": "execute_result"
    }
   ],
   "source": [
    "Orders.isnull().sum()"
   ]
  },
  {
   "cell_type": "code",
   "execution_count": 242,
   "id": "6003db25",
   "metadata": {},
   "outputs": [
    {
     "data": {
      "text/plain": [
       "0"
      ]
     },
     "execution_count": 242,
     "metadata": {},
     "output_type": "execute_result"
    }
   ],
   "source": [
    "Orders.duplicated().sum()"
   ]
  },
  {
   "cell_type": "markdown",
   "id": "45ef5678",
   "metadata": {},
   "source": [
    "# Products"
   ]
  },
  {
   "cell_type": "code",
   "execution_count": 232,
   "id": "0d06f9c7",
   "metadata": {},
   "outputs": [
    {
     "data": {
      "text/html": [
       "<div>\n",
       "<style scoped>\n",
       "    .dataframe tbody tr th:only-of-type {\n",
       "        vertical-align: middle;\n",
       "    }\n",
       "\n",
       "    .dataframe tbody tr th {\n",
       "        vertical-align: top;\n",
       "    }\n",
       "\n",
       "    .dataframe thead th {\n",
       "        text-align: right;\n",
       "    }\n",
       "</style>\n",
       "<table border=\"1\" class=\"dataframe\">\n",
       "  <thead>\n",
       "    <tr style=\"text-align: right;\">\n",
       "      <th></th>\n",
       "      <th>ProductID</th>\n",
       "      <th>ProductName</th>\n",
       "      <th>Price</th>\n",
       "    </tr>\n",
       "  </thead>\n",
       "  <tbody>\n",
       "    <tr>\n",
       "      <th>0</th>\n",
       "      <td>1</td>\n",
       "      <td>Product A</td>\n",
       "      <td>19.99</td>\n",
       "    </tr>\n",
       "    <tr>\n",
       "      <th>1</th>\n",
       "      <td>2</td>\n",
       "      <td>Product B</td>\n",
       "      <td>29.99</td>\n",
       "    </tr>\n",
       "    <tr>\n",
       "      <th>2</th>\n",
       "      <td>3</td>\n",
       "      <td>Product C</td>\n",
       "      <td>39.99</td>\n",
       "    </tr>\n",
       "    <tr>\n",
       "      <th>3</th>\n",
       "      <td>4</td>\n",
       "      <td>Product D</td>\n",
       "      <td>49.99</td>\n",
       "    </tr>\n",
       "    <tr>\n",
       "      <th>4</th>\n",
       "      <td>5</td>\n",
       "      <td>Product E</td>\n",
       "      <td>59.99</td>\n",
       "    </tr>\n",
       "  </tbody>\n",
       "</table>\n",
       "</div>"
      ],
      "text/plain": [
       "   ProductID ProductName  Price\n",
       "0          1   Product A  19.99\n",
       "1          2   Product B  29.99\n",
       "2          3   Product C  39.99\n",
       "3          4   Product D  49.99\n",
       "4          5   Product E  59.99"
      ]
     },
     "execution_count": 232,
     "metadata": {},
     "output_type": "execute_result"
    }
   ],
   "source": [
    "Products.head()"
   ]
  },
  {
   "cell_type": "code",
   "execution_count": 234,
   "id": "49fd5ad8",
   "metadata": {},
   "outputs": [
    {
     "name": "stdout",
     "output_type": "stream",
     "text": [
      "<class 'pandas.core.frame.DataFrame'>\n",
      "RangeIndex: 5 entries, 0 to 4\n",
      "Data columns (total 3 columns):\n",
      " #   Column       Non-Null Count  Dtype  \n",
      "---  ------       --------------  -----  \n",
      " 0   ProductID    5 non-null      int64  \n",
      " 1   ProductName  5 non-null      object \n",
      " 2   Price        5 non-null      float64\n",
      "dtypes: float64(1), int64(1), object(1)\n",
      "memory usage: 252.0+ bytes\n"
     ]
    }
   ],
   "source": [
    "Products.info()"
   ]
  },
  {
   "cell_type": "code",
   "execution_count": 243,
   "id": "1a517caf",
   "metadata": {},
   "outputs": [
    {
     "data": {
      "text/plain": [
       "ProductID      0\n",
       "ProductName    0\n",
       "Price          0\n",
       "dtype: int64"
      ]
     },
     "execution_count": 243,
     "metadata": {},
     "output_type": "execute_result"
    }
   ],
   "source": [
    "Products.isnull().sum()"
   ]
  },
  {
   "cell_type": "code",
   "execution_count": 244,
   "id": "ad664418",
   "metadata": {},
   "outputs": [
    {
     "data": {
      "text/plain": [
       "0"
      ]
     },
     "execution_count": 244,
     "metadata": {},
     "output_type": "execute_result"
    }
   ],
   "source": [
    "Products.duplicated().sum()"
   ]
  },
  {
   "cell_type": "markdown",
   "id": "ba5b93a4",
   "metadata": {},
   "source": [
    "# Users"
   ]
  },
  {
   "cell_type": "code",
   "execution_count": 235,
   "id": "dc58dd01",
   "metadata": {},
   "outputs": [
    {
     "data": {
      "text/html": [
       "<div>\n",
       "<style scoped>\n",
       "    .dataframe tbody tr th:only-of-type {\n",
       "        vertical-align: middle;\n",
       "    }\n",
       "\n",
       "    .dataframe tbody tr th {\n",
       "        vertical-align: top;\n",
       "    }\n",
       "\n",
       "    .dataframe thead th {\n",
       "        text-align: right;\n",
       "    }\n",
       "</style>\n",
       "<table border=\"1\" class=\"dataframe\">\n",
       "  <thead>\n",
       "    <tr style=\"text-align: right;\">\n",
       "      <th></th>\n",
       "      <th>UserID</th>\n",
       "      <th>SignUpDate</th>\n",
       "      <th>Location</th>\n",
       "    </tr>\n",
       "  </thead>\n",
       "  <tbody>\n",
       "    <tr>\n",
       "      <th>0</th>\n",
       "      <td>1</td>\n",
       "      <td>14-09-2021 19:51</td>\n",
       "      <td>New York</td>\n",
       "    </tr>\n",
       "    <tr>\n",
       "      <th>1</th>\n",
       "      <td>2</td>\n",
       "      <td>18-03-2021 20:27</td>\n",
       "      <td>Los Angeles</td>\n",
       "    </tr>\n",
       "    <tr>\n",
       "      <th>2</th>\n",
       "      <td>3</td>\n",
       "      <td>16-04-2021 16:41</td>\n",
       "      <td>Chicago</td>\n",
       "    </tr>\n",
       "    <tr>\n",
       "      <th>3</th>\n",
       "      <td>4</td>\n",
       "      <td>17-04-2021 08:48</td>\n",
       "      <td>Houston</td>\n",
       "    </tr>\n",
       "    <tr>\n",
       "      <th>4</th>\n",
       "      <td>5</td>\n",
       "      <td>06-12-2021 03:28</td>\n",
       "      <td>Phoenix</td>\n",
       "    </tr>\n",
       "  </tbody>\n",
       "</table>\n",
       "</div>"
      ],
      "text/plain": [
       "   UserID        SignUpDate     Location\n",
       "0       1  14-09-2021 19:51     New York\n",
       "1       2  18-03-2021 20:27  Los Angeles\n",
       "2       3  16-04-2021 16:41      Chicago\n",
       "3       4  17-04-2021 08:48      Houston\n",
       "4       5  06-12-2021 03:28      Phoenix"
      ]
     },
     "execution_count": 235,
     "metadata": {},
     "output_type": "execute_result"
    }
   ],
   "source": [
    "Users.head()"
   ]
  },
  {
   "cell_type": "code",
   "execution_count": 236,
   "id": "a54d86a5",
   "metadata": {},
   "outputs": [
    {
     "name": "stdout",
     "output_type": "stream",
     "text": [
      "<class 'pandas.core.frame.DataFrame'>\n",
      "RangeIndex: 10 entries, 0 to 9\n",
      "Data columns (total 3 columns):\n",
      " #   Column      Non-Null Count  Dtype \n",
      "---  ------      --------------  ----- \n",
      " 0   UserID      10 non-null     int64 \n",
      " 1   SignUpDate  10 non-null     object\n",
      " 2   Location    10 non-null     object\n",
      "dtypes: int64(1), object(2)\n",
      "memory usage: 372.0+ bytes\n"
     ]
    }
   ],
   "source": [
    "Users.info()"
   ]
  },
  {
   "cell_type": "code",
   "execution_count": 238,
   "id": "d9b19e3d",
   "metadata": {},
   "outputs": [],
   "source": [
    "# change the datatype of Orders\n",
    "Users['SignUpDate']=pd.to_datetime(Users['SignUpDate'])"
   ]
  },
  {
   "cell_type": "code",
   "execution_count": 239,
   "id": "9e04ddaf",
   "metadata": {},
   "outputs": [
    {
     "name": "stdout",
     "output_type": "stream",
     "text": [
      "<class 'pandas.core.frame.DataFrame'>\n",
      "RangeIndex: 10 entries, 0 to 9\n",
      "Data columns (total 3 columns):\n",
      " #   Column      Non-Null Count  Dtype         \n",
      "---  ------      --------------  -----         \n",
      " 0   UserID      10 non-null     int64         \n",
      " 1   SignUpDate  10 non-null     datetime64[ns]\n",
      " 2   Location    10 non-null     object        \n",
      "dtypes: datetime64[ns](1), int64(1), object(1)\n",
      "memory usage: 372.0+ bytes\n"
     ]
    }
   ],
   "source": [
    "Users.info()"
   ]
  },
  {
   "cell_type": "code",
   "execution_count": 245,
   "id": "a528c381",
   "metadata": {},
   "outputs": [
    {
     "data": {
      "text/plain": [
       "UserID        0\n",
       "SignUpDate    0\n",
       "Location      0\n",
       "dtype: int64"
      ]
     },
     "execution_count": 245,
     "metadata": {},
     "output_type": "execute_result"
    }
   ],
   "source": [
    "Users.isnull().sum()"
   ]
  },
  {
   "cell_type": "code",
   "execution_count": 246,
   "id": "334527e6",
   "metadata": {},
   "outputs": [
    {
     "data": {
      "text/plain": [
       "0"
      ]
     },
     "execution_count": 246,
     "metadata": {},
     "output_type": "execute_result"
    }
   ],
   "source": [
    "Users.duplicated().sum()"
   ]
  },
  {
   "cell_type": "markdown",
   "id": "94783d1f",
   "metadata": {},
   "source": [
    "# Transform the Data- deal with missing and duplicate data\n",
    "\n",
    "This dataset does't contain any null value or duplicate values, if there is any null values contains then we can go for Deletion or immutation method"
   ]
  },
  {
   "cell_type": "code",
   "execution_count": 247,
   "id": "3a723939",
   "metadata": {},
   "outputs": [],
   "source": [
    "Orders.drop_duplicates(keep='first').inplace=True"
   ]
  },
  {
   "cell_type": "code",
   "execution_count": 248,
   "id": "f4cf0d31",
   "metadata": {},
   "outputs": [],
   "source": [
    "Orders.dropna(inplace=True)"
   ]
  },
  {
   "cell_type": "code",
   "execution_count": 249,
   "id": "579c0c3d",
   "metadata": {},
   "outputs": [],
   "source": [
    "Products.drop_duplicates(keep='first').inplace=True"
   ]
  },
  {
   "cell_type": "code",
   "execution_count": 250,
   "id": "94106783",
   "metadata": {},
   "outputs": [],
   "source": [
    "Products.dropna(inplace=True)"
   ]
  },
  {
   "cell_type": "code",
   "execution_count": 251,
   "id": "f6becfba",
   "metadata": {},
   "outputs": [],
   "source": [
    "Users.drop_duplicates(keep='first').inplace=True"
   ]
  },
  {
   "cell_type": "code",
   "execution_count": 252,
   "id": "fc5d274c",
   "metadata": {},
   "outputs": [],
   "source": [
    "Users.dropna(inplace=True)"
   ]
  },
  {
   "cell_type": "markdown",
   "id": "d5b993e4",
   "metadata": {},
   "source": [
    "# Create a Database\n",
    "\n",
    "Go to PGAdmin(Postgre SQL) and create a Database Table"
   ]
  },
  {
   "cell_type": "code",
   "execution_count": 253,
   "id": "f6e783b2",
   "metadata": {},
   "outputs": [],
   "source": [
    "# Database Credentials\n",
    "username = 'Enter your postgresql Username'\n",
    "password = 'Enter your Password'\n",
    "host = 'localhost'\n",
    "port = 5432\n",
    "db_name ='E-Commerce'"
   ]
  },
  {
   "cell_type": "code",
   "execution_count": 254,
   "id": "bae146ba",
   "metadata": {},
   "outputs": [],
   "source": [
    "# Establish a connection\n",
    "engine = create_engine(f'postgresql://{username}:{password}@{host}:{port}/{db_name}')\n",
    "\n",
    "try:\n",
    "    # Load the data into PostgreSQL database (Table names - orders, products, users)\n",
    "    Orders.to_sql('orders', engine, if_exists='replace', index=False)\n",
    "    Products.to_sql('products', engine, if_exists='replace', index=False)\n",
    "    Users.to_sql('users', engine, if_exists='replace', index=False)\n",
    "    logging.info('Data pipeline execution completed successfully.')\n",
    "except Exception as e:\n",
    "    logging.error(f'Error in data pipeline: {str(e)}')\n",
    "finally:\n",
    "    # Close the connection\n",
    "    engine.dispose()\n"
   ]
  }
 ],
 "metadata": {
  "kernelspec": {
   "display_name": "Python 3 (ipykernel)",
   "language": "python",
   "name": "python3"
  },
  "language_info": {
   "codemirror_mode": {
    "name": "ipython",
    "version": 3
   },
   "file_extension": ".py",
   "mimetype": "text/x-python",
   "name": "python",
   "nbconvert_exporter": "python",
   "pygments_lexer": "ipython3",
   "version": "3.11.5"
  }
 },
 "nbformat": 4,
 "nbformat_minor": 5
}
